{
 "cells": [
  {
   "cell_type": "code",
   "execution_count": null,
   "metadata": {},
   "outputs": [],
   "source": [
    "import socket,cv2, pickle,struct\n",
    "\n",
    "# create socket\n",
    "client_socket = socket.socket(socket.AF_INET,socket.SOCK_STREAM)\n",
    "host_ip = input(\"Please enter IP address of server\") \n",
    "port = int(input(\"Please enter Port number of server\"))\n",
    "\n",
    "client_socket.connect((host_ip,port)) \n",
    "data = b\"\"\n",
    "\n",
    "# calcsize calculate data size which is not even packed\n",
    "payload_size = struct.calcsize(\"Q\")  \n",
    "\n",
    "#print(payload_size) gives output  ==> 8\n",
    "\n",
    "while True:\n",
    "    while len(data) < payload_size:\n",
    "        packet = client_socket.recv(4*1024) # 4K\n",
    "        if not packet: break\n",
    "        data+=packet\n",
    "    \n",
    "    packed_msg_size = data[:payload_size]     # retrieving the message part from packed data\n",
    "    # print(packed_msg_size)   gives output like==> b'\\xa4\\x84\\x03\\x00\\x00\\x00\\x00\\x00'\n",
    "    \n",
    "    data = data[payload_size:]\n",
    "    msg_size = struct.unpack(\"Q\",packed_msg_size)[0]   \n",
    "    while len(data) < msg_size:\n",
    "        data += client_socket.recv(4*1024)\n",
    "    frame_data = data[:msg_size]\n",
    "    data  = data[msg_size:]\n",
    "    frame = pickle.loads(frame_data)        \n",
    "    cv2.imshow(\"RECEIVING VIDEO\",frame)     \n",
    "    key = cv2.waitKey(1) & 0xFF\n",
    "    if key  == ord('q'):\n",
    "        break\n",
    "client_socket.close()"
   ]
  },
  {
   "cell_type": "code",
   "execution_count": null,
   "metadata": {},
   "outputs": [],
   "source": []
  }
 ],
 "metadata": {
  "kernelspec": {
   "display_name": "Python 3",
   "language": "python",
   "name": "python3"
  },
  "language_info": {
   "codemirror_mode": {
    "name": "ipython",
    "version": 3
   },
   "file_extension": ".py",
   "mimetype": "text/x-python",
   "name": "python",
   "nbconvert_exporter": "python",
   "pygments_lexer": "ipython3",
   "version": "3.8.3"
  }
 },
 "nbformat": 4,
 "nbformat_minor": 4
}

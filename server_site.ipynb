{
 "cells": [
  {
   "cell_type": "code",
   "execution_count": null,
   "metadata": {},
   "outputs": [],
   "source": [
    "import socket, cv2,pickle,struct,imutils\n",
    "\n",
    "\n",
    "HOST = socket.gethostbyname(socket.gethostname())\n",
    "PORT = int(input(\"Please enter the port no of server: \"))\n",
    "\n",
    "server_socket = socket.socket(socket.AF_INET, socket.SOCK_STREAM)\n",
    "\n",
    "server_socket.bind((HOST, PORT))\n",
    "server_socket.listen(10)\n",
    "\n",
    "print(f'[+] SERVER listening on {HOST}:{PORT}')\n",
    "print(\"[+] Press Q to quit\")\n",
    "\n",
    "\n",
    "while True:\n",
    "    client_socket, addr = server_socket.accept()\n",
    "    print('GOT CONNECTION FROM:', addr)\n",
    "    if client_socket:\n",
    "        vid = cv2.VideoCapture(0)\n",
    "        \n",
    "        while(vid.isOpened()):\n",
    "            ret, frame = vid.read()\n",
    "            \n",
    "            frame = imutils.resize(frame, width=500)\n",
    "            \n",
    "            a = pickle.dumps(frame) \n",
    "            # packing the data with size used in server\n",
    "            message = struct.pack(\"Q\",len(a))+a\n",
    "            \n",
    "            client_socket.sendall(message)\n",
    "            \n",
    "            cv2.imshow('STREAMING!!!',frame)  #opening the window \n",
    "            key = cv2.waitKey(1) & 0xFF\n",
    "            if key ==ord('q'):\n",
    "                 client_socket.close()"
   ]
  },
  {
   "cell_type": "code",
   "execution_count": null,
   "metadata": {},
   "outputs": [],
   "source": []
  },
  {
   "cell_type": "code",
   "execution_count": null,
   "metadata": {},
   "outputs": [],
   "source": []
  }
 ],
 "metadata": {
  "kernelspec": {
   "display_name": "Python 3",
   "language": "python",
   "name": "python3"
  },
  "language_info": {
   "codemirror_mode": {
    "name": "ipython",
    "version": 3
   },
   "file_extension": ".py",
   "mimetype": "text/x-python",
   "name": "python",
   "nbconvert_exporter": "python",
   "pygments_lexer": "ipython3",
   "version": "3.8.3"
  }
 },
 "nbformat": 4,
 "nbformat_minor": 4
}
